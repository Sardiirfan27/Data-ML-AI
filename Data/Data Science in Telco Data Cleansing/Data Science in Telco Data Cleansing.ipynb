{
  "nbformat": 4,
  "nbformat_minor": 0,
  "metadata": {
    "kernelspec": {
      "display_name": "Python 3",
      "language": "python",
      "name": "python3"
    },
    "language_info": {
      "codemirror_mode": {
        "name": "ipython",
        "version": 3
      },
      "file_extension": ".py",
      "mimetype": "text/x-python",
      "name": "python",
      "nbconvert_exporter": "python",
      "pygments_lexer": "ipython3",
      "version": "3.7.6"
    },
    "colab": {
      "name": "Data Science in Telco Data Cleansing.ipynb",
      "provenance": [],
      "include_colab_link": true
    }
  },
  "cells": [
    {
      "cell_type": "markdown",
      "metadata": {
        "id": "view-in-github",
        "colab_type": "text"
      },
      "source": [
        "<a href=\"https://colab.research.google.com/github/MyArist/DQLab/blob/master/Learn/Python/Applied%20Data%20Science/Data%20Science%20in%20Telco%20Data%20Cleansing/Data%20Science%20in%20Telco%20Data%20Cleansing.ipynb\" target=\"_parent\"><img src=\"https://colab.research.google.com/assets/colab-badge.svg\" alt=\"Open In Colab\"/></a>"
      ]
    },
    {
      "cell_type": "markdown",
      "metadata": {
        "id": "vdA5w8Cbbhy5",
        "colab_type": "text"
      },
      "source": [
        "# Data Science in Telco: Data Cleansing"
      ]
    },
    {
      "cell_type": "markdown",
      "metadata": {
        "id": "T0jwHLypbhy6",
        "colab_type": "text"
      },
      "source": [
        "# Introduction"
      ]
    },
    {
      "cell_type": "markdown",
      "metadata": {
        "id": "5jaxjopsbhy7",
        "colab_type": "text"
      },
      "source": [
        "### Latar Belakang\n",
        "\n",
        "DQLab Telco merupakan perusahaan Telco yang sudah mempunyai banyak cabang tersebar dimana-mana. Sejak berdiri pada tahun 2019, DQLab Telco konsisten untuk memperhatikan customer experience nya sehingga tidak akan di tinggalkan pelanggan. Walaupun baru berumur 1 tahun lebih sedikit, DQLab Telco sudah mempunyai banyak pelanggan yang beralih langganan ke kompetitior. Pihak management ingin mengurangi jumlah pelanggan yang beralih (churn) dengan menggunakan machine learning. Oleh karena itu, tim Data Scientist dimimta untuk mempersiapkan data sekaligus membuat model prediksi yang tepat untuk menentukan pelanggan akan berhenti berlangganan (churn) atau tidak."
      ]
    },
    {
      "cell_type": "markdown",
      "metadata": {
        "id": "HqLYenPwbhy8",
        "colab_type": "text"
      },
      "source": [
        "### Tugas dan Langkah\n",
        "\n",
        "Sebagai seorang data scientist, kamu diminta untuk menyiapkan data sebelum di lakukan permodelan. Pada tugas kali ini, kamu akan melakukan Data Prepocessing (Data Cleansing) bulan lalu, yakni Juni 2020. Langkah yang akan dilakukan adalah,\n",
        "\n",
        "1. Mencari ID pelanggan (Nomor telphone) yang valid\n",
        "2. Mengatasi data-data yang masih kosong (Missing Values)\n",
        "3. Mengatasi Nilai-Nilai Pencilan (Outlier) dari setiap Variable\n",
        "4. Menstandarisasi Nilai dari Variable\n"
      ]
    },
    {
      "cell_type": "markdown",
      "metadata": {
        "id": "hjquLAkobhy8",
        "colab_type": "text"
      },
      "source": [
        "## Library dan Data yang Digunakan"
      ]
    },
    {
      "cell_type": "markdown",
      "metadata": {
        "id": "ysPnL3V2bhy9",
        "colab_type": "text"
      },
      "source": [
        "### Library yang Digunakan\n",
        "\n",
        "Pada analisis kali ini, akan digunakan beberapa package yang membantu kita dalam melakukan analisis data,\n",
        "\n",
        "1. Pandas\n",
        "\n",
        "    Pandas (Python for Data Analysis) adalah library Python yang fokus untuk proses analisis data seperti manipulasi data, persiapan data, dan pembersihan data.\n",
        "\n",
        "    - `read_csv()` digunakan untuk membaca file csv\n",
        "    - `str.match()` digunakan untuk mencocokan dengan karakter tertentu\n",
        "    - `drop()` digunakan untuk menghapus\n",
        "    - `count()` digunakan untuk mengitung masing-masing variable\n",
        "    - `drop_duplicates()` digunakan untuk menghapus data duplicate rows\n",
        "    - `fillna()` digunakan untuk mengisi dengan nilai tertentu\n",
        "    - `quantile()` digunakan untuk melihat quantile ke tertentu\n",
        "    - `mask()` menganti nilai tertentu jika kondisi memenuhi\n",
        "    - `astype()` merubah tipe data\n",
        "    - `value_counts()` digunakan untuk mengitung unik dari kolom\n",
        "    - `sort_values()` digunakan untuk sort values\n",
        "    - `isnull()` digunakan untuk mendeteksi missing values\n",
        "    - `dropna()` digunakan untuk menghapus missing values\n",
        "    - `replace()` digunakan untuk mengganti nilai\n",
        "    \n",
        "2. Matplotlib\n",
        "\n",
        "    Matplotlib adalah library Python yang fokus pada visualisasi data seperti membuat plot grafik. Matplotlib dapat digunakan dalam skrip Python, Python dan IPython shell, server aplikasi web, dan beberapa toolkit graphical user interface (GUI) lainnya.\n",
        "\n",
        "    - `figure()` digunakan untuk membuat figure gambar baru\n",
        "\n",
        "3. Seaborn\n",
        "\n",
        "    Seaborn membangun di atas Matplotlib dan memperkenalkan tipe plot tambahan. Ini juga membuat plot Matplotlib tradisional Anda terlihat sedikit lebih cantik.\n",
        "\n",
        "    - `box_plot()` digunakan untuk membuat box plot"
      ]
    },
    {
      "cell_type": "markdown",
      "metadata": {
        "id": "Gr78Wh0rbhy9",
        "colab_type": "text"
      },
      "source": [
        "### Data yang DIgunakan\n",
        "\n",
        "Untuk Dataset yang digunakan sudah disediakan dalam format csv, silahkan baca melalui fungsi pandas di python `df_load = pd.read_csv('https://dqlab-dataset.s3-ap-southeast-1.amazonaws.com/dqlab_telco.csv')`\n",
        " \n",
        "Untuk detil datanya adalah sebagai berikut:\n",
        "\n",
        "- `UpdatedAt` Periode of Data taken\n",
        "- `customerID`` Customer ID\n",
        "- `gender` Whether the customer is a male or a female `(Male, Female)`\n",
        "- `SeniorCitizen` Whether the customer is a senior citizen or not `(1, 0)`\n",
        "- `Partner` Whether the customer has a partner or not `(Yes, No)`\n",
        "- `Dependents` Whether the customer has dependents or not `(Yes, No)`\n",
        "- `tenure` Number of months the customer has stayed with the company\n",
        "- `PhoneService` Whether the customer has a phone service or not `(Yes, No)`\n",
        "- `MultipleLines` Whether the customer has multiple lines or not `(Yes, No, No phone service)`\n",
        "- `InternetService` Customer’s internet service provider `(DSL, Fiber optic, No)`\n",
        "- `OnlineSecurity` Whether the customer has online security or not `(Yes, No, No internet service)`\n",
        "- `OnlineBackup` Whether the customer has online backup or not `(Yes, No, No internet service)`\n",
        "- `DeviceProtection` Whether the customer has device protection or not `(Yes, No, No internet service)`\n",
        "- `TechSupport` Whether the customer has tech support or not `Yes, No, No internet service)`\n",
        "- `StreamingTV` Whether the customer has streaming TV or not `(Yes, No, No internet service)`\n",
        "- `StreamingMovies` Whether the customer has streaming movies or not `(Yes, No, No internet service)`\n",
        "- `Contract` The contract term of the customer `(Month-to-month, One year, Two year)`\n",
        "- `PaperlessBilling` Whether the customer has paperless billing or not `(Yes, No)`\n",
        "- `PaymentMethod` The customer’s payment method `(Electronic check, Mailed check, Bank transfer (automatic), Credit card (automatic))`\n",
        "- `MonthlyCharges` The amount charged to the customer monthly\n",
        "- `TotalCharges` The total amount charged to the customer\n",
        "- `Churn Whether` the customer churned or not `(Yes or No)`"
      ]
    },
    {
      "cell_type": "markdown",
      "metadata": {
        "id": "yRnvgwx3bhy-",
        "colab_type": "text"
      },
      "source": [
        "### Import Library dan Dataset\n",
        "\n",
        "Berdasarkan penjelasan mengenai library dan dataset yang akan digunakan, sekarang hal pertama yang akan kita lakukan adalah melakukan import library dan dataset ke dalam workspace kita.\n",
        "\n",
        "Setelah dataset di-import ke dalam workspace, tampilkan jumlah kolom dan baris dari data set dengan menggunakan .shape dan print 5 baris teratas dengan menggunakan head() dan carilah ada berapa nilai customerID yang bersifat unique dengan menggunakan .unique\n",
        "\n",
        "```\n",
        "import pandas as pd\n",
        "pd.options.display.max_columns = 50\n",
        "\n",
        "df_load = pd.read_csv('https://dqlab-dataset.s3-ap-southeast-1.amazonaws.com/dqlab_telco.csv')\n",
        "```\n",
        "\n",
        "**Notes** :\n",
        "\n",
        "1. pd.options.display.max_columns = 50 digunakan untuk mempermudah penampilan row data\n",
        "\n",
        "2. Simpan dataset ke dalam variabel df_load"
      ]
    },
    {
      "cell_type": "code",
      "metadata": {
        "scrolled": false,
        "id": "2aTUtfkgbhy-",
        "colab_type": "code",
        "colab": {},
        "outputId": "e85effab-b0e3-496e-b113-bba5e88eb4e5"
      },
      "source": [
        "#import library\n",
        "import pandas as pd\n",
        "pd.options.display.max_columns = 50\n",
        "\n",
        "#import dataset\n",
        "df_load = pd.read_csv('dqlab_telco.csv')\n",
        "\n",
        "#Tampilkan jumlah baris dan kolom\n",
        "print(df_load.shape)\n",
        "\n",
        "#Tampilkan 5 data teratas\n",
        "print(df_load.head(5))"
      ],
      "execution_count": null,
      "outputs": [
        {
          "output_type": "stream",
          "text": [
            "(7113, 22)\n",
            "   UpdatedAt   customerID  gender  SeniorCitizen Partner Dependents  tenure  \\\n",
            "0     202006  45759018157  Female              0     Yes         No     1.0   \n",
            "1     202006  45557574145    Male              0      No         No    34.0   \n",
            "2     202006  45366876421    Male              0      No         No     2.0   \n",
            "3     202006  45779536532    Male              0      No         No    45.0   \n",
            "4     202006  45923787906  Female              0      No         No     2.0   \n",
            "\n",
            "  PhoneService     MultipleLines InternetService OnlineSecurity OnlineBackup  \\\n",
            "0           No  No phone service             DSL             No          Yes   \n",
            "1          Yes                No             DSL            Yes           No   \n",
            "2          Yes                No             DSL            Yes          Yes   \n",
            "3           No  No phone service             DSL            Yes           No   \n",
            "4          Yes                No     Fiber optic             No           No   \n",
            "\n",
            "  DeviceProtection TechSupport StreamingTV StreamingMovies        Contract  \\\n",
            "0               No          No          No              No  Month-to-month   \n",
            "1              Yes          No          No              No        One year   \n",
            "2               No          No          No              No  Month-to-month   \n",
            "3              Yes         Yes          No              No        One year   \n",
            "4               No          No          No              No  Month-to-month   \n",
            "\n",
            "  PaperlessBilling              PaymentMethod  MonthlyCharges  TotalCharges  \\\n",
            "0              Yes           Electronic check           29.85         29.85   \n",
            "1               No               Mailed check           56.95       1889.50   \n",
            "2              Yes               Mailed check           53.85        108.15   \n",
            "3               No  Bank transfer (automatic)           42.30       1840.75   \n",
            "4              Yes           Electronic check           70.70        151.65   \n",
            "\n",
            "  Churn  \n",
            "0    No  \n",
            "1    No  \n",
            "2   Yes  \n",
            "3    No  \n",
            "4   Yes  \n"
          ],
          "name": "stdout"
        }
      ]
    },
    {
      "cell_type": "markdown",
      "metadata": {
        "id": "D5lo7iRbbhzC",
        "colab_type": "text"
      },
      "source": [
        "## Mencari Validitas ID Number Pelanggan"
      ]
    },
    {
      "cell_type": "markdown",
      "metadata": {
        "id": "m4hDvXWZbhzD",
        "colab_type": "text"
      },
      "source": [
        "### Memfilter ID Number Pelanggan Format Tertentu\n",
        "\n",
        "Mencari format ID Number (Phone Number) Pelanggan `customerID` yang benar, dengan kriteria:\n",
        "\n",
        "- Panjang karakter adalah 11-12.\n",
        "- Terdiri dari Angka Saja, tidak diperbolehkan ada karakter selain angka\n",
        "- Diawali dengan angka 45 2 digit pertama.\n",
        " \n",
        "Gunakan fungsi `count()` untuk menghitung banyaknya rows Customer ID, anda juga bisa menggunakan `str.match()` & regex untuk mencocokan dengan kriteria diatas. Jangan lupa gunakan `astype()` untuk merubah tipe datanya yang semula numeric\n",
        "\n",
        "**Notes** : Buat kolom bantuan baru dengan nama `valid_id`"
      ]
    },
    {
      "cell_type": "code",
      "metadata": {
        "id": "0m0_W_Y9bhzD",
        "colab_type": "code",
        "colab": {},
        "outputId": "44de075d-9d87-4726-874d-245d151c485b"
      },
      "source": [
        "df_load['valid_id'] = df_load['customerID'].astype(str).str.match(r'(45\\d{9,10})')\n",
        "df_load = (df_load[df_load['valid_id'] == True]).drop('valid_id', axis = 1)\n",
        "print('Hasil jumlah ID Customer yang terfilter adalah', df_load['customerID'].count())"
      ],
      "execution_count": null,
      "outputs": [
        {
          "output_type": "stream",
          "text": [
            "Hasil jumlah ID Customer yang terfilter adalah 7006\n"
          ],
          "name": "stdout"
        }
      ]
    },
    {
      "cell_type": "markdown",
      "metadata": {
        "id": "uEC1dE2UbhzG",
        "colab_type": "text"
      },
      "source": [
        "### Memfilter Duplikasi ID Number Pelanggan\n",
        "\n",
        "Memastikan bahwa tidak ada Id Number pelanggan yang duplikat. Biasanya duplikasi ID number ini tipenya:\n",
        "\n",
        "- Duplikasi dikarenakan inserting melebihi satu kali dengan nilai yang sama tiap kolomnya\n",
        "- Duplikasi dikarenakan inserting beda periode pengambilan data\n",
        "\n",
        "Gunakan hasil dari pengolahan di tahap sebelumnya `df_load` untuk di olah di tahap ini. Gunakan fungsi `drop_duplicates()` untuk menghapus duplikasi rows, dan gunakan `sort_valus()` untuk mengecek pengambilan data terakhir"
      ]
    },
    {
      "cell_type": "code",
      "metadata": {
        "id": "kIXt3gbgbhzH",
        "colab_type": "code",
        "colab": {},
        "outputId": "2c31d577-7bc1-4cb0-8d27-8012770f4e66"
      },
      "source": [
        "# Drop Duplicate Rows\n",
        "df_load.drop_duplicates()\n",
        "# Drop duplicate ID sorted by Periode\n",
        "df_load = df_load.sort_values('UpdatedAt', ascending=False).drop_duplicates(['customerID'])\n",
        "print('Hasil jumlah ID Customer yang sudah dihilangkan duplikasinya (distinct) adalah',df_load['customerID'].count())"
      ],
      "execution_count": null,
      "outputs": [
        {
          "output_type": "stream",
          "text": [
            "Hasil jumlah ID Customer yang sudah dihilangkan duplikasinya (distinct) adalah 6993\n"
          ],
          "name": "stdout"
        }
      ]
    },
    {
      "cell_type": "markdown",
      "metadata": {
        "id": "iey8oczPbhzK",
        "colab_type": "text"
      },
      "source": [
        "### Kesimpulan\n",
        "\n",
        "Validitas dari ID Number pelanggan sangat diperlukan untuk memastikan bahwa data yang kita ambil sudah benar. Berdasarkan hasil tersbut, terdapat perbedaan jumlah nomor ID dari data pertama kali di load sampai dengan hasil akhir. Jumlah row data ketika pertama kali di load ada sebanyak 7113 rows dan 22 coloumns dengan 7017 jumlah ID yang Unique. Kemudian setelah di cek validitas dari ID pelanggan, maka tersisa 6993 rows data"
      ]
    },
    {
      "cell_type": "markdown",
      "metadata": {
        "id": "evGtbdDibhzK",
        "colab_type": "text"
      },
      "source": [
        "## Mengatasi Missing Values"
      ]
    },
    {
      "cell_type": "markdown",
      "metadata": {
        "id": "_yyaNamwbhzL",
        "colab_type": "text"
      },
      "source": [
        "### Mengatasi Missing Values dengan Penghapusan Rows\n",
        "\n",
        "Selanjutnya kita akan menghapus Rows dari data-data yang tidak terdeteksi apakah dia churn atau tidak. Di asumsikan data modeller hanya mau menerima data yang benar ada flag churn nya atau tidak.\n",
        "\n",
        "Gunakan `isnull()` digunakan untuk mendeteksi missing values dan `dropna()` untuk menghapus data yang missing values"
      ]
    },
    {
      "cell_type": "code",
      "metadata": {
        "id": "J79HGpr4bhzL",
        "colab_type": "code",
        "colab": {},
        "outputId": "0b4616e5-29e2-4438-91f5-fa22dfea1301"
      },
      "source": [
        "print('Total missing values data dari kolom Churn',df_load['Churn'].isnull().sum())\n",
        "# Dropping all Rows with spesific column (churn)\n",
        "df_load.dropna(subset=['Churn'],inplace=True)\n",
        "print('Total Rows dan kolom Data setelah dihapus data Missing Values adalah',df_load.shape)"
      ],
      "execution_count": null,
      "outputs": [
        {
          "output_type": "stream",
          "text": [
            "Total missing values data dari kolom Churn 43\n",
            "Total Rows dan kolom Data setelah dihapus data Missing Values adalah (6950, 22)\n"
          ],
          "name": "stdout"
        }
      ]
    },
    {
      "cell_type": "markdown",
      "metadata": {
        "id": "gkBeQ7nwbhzO",
        "colab_type": "text"
      },
      "source": [
        "### Mengatasi Missing Values dengan Pengisian Nilai tertentu\n",
        "\n",
        "Selain dengan mengapus rows dari data, menangani missing values bisa menggunakan nilai tertentu. Diasumsikan data modeller meminta pengisian missing values dengan kriteria berikut:\n",
        "\n",
        "- Tenure pihak data modeller meminta setiap rows yang memiliki missing values untuk Lama berlangganan di isi dengan 11\n",
        "- Variable yang bersifat numeric selain Tenure di isi dengan median dari masing-masing variable tersebut\n",
        "\n",
        "Tentukan :\n",
        "\n",
        "- Apakah masih ada data yang missing values\n",
        "- Jumlah Missing Values dari masing-masing variable\n",
        "- Tangani Missing Valuesnya"
      ]
    },
    {
      "cell_type": "code",
      "metadata": {
        "id": "FDQV_OILbhzQ",
        "colab_type": "code",
        "colab": {},
        "outputId": "1e0d6a24-1c2b-4cfe-ac45-97be4d705570"
      },
      "source": [
        "print('Status Missing Values :',df_load.isnull().values.any())\n",
        "print('\\nJumlah Missing Values masing-masing kolom, adalah:')\n",
        "print(df_load.isnull().sum().sort_values(ascending=False))\n",
        "\n",
        "# handling missing values Tenure fill with 11\n",
        "df_load['tenure'].fillna(11, inplace=True)\n",
        "\n",
        "# Handling missing values num vars (except Tenure)\n",
        "for col_name in list(['MonthlyCharges','TotalCharges']):\n",
        "    median = df_load[col_name].median()\n",
        "    df_load[col_name].fillna(median, inplace=True)\n",
        "\n",
        "print('\\nJumlah Missing Values setelah di imputer datanya, adalah:')\n",
        "print(df_load.isnull().sum().sort_values(ascending=False))"
      ],
      "execution_count": null,
      "outputs": [
        {
          "output_type": "stream",
          "text": [
            "Status Missing Values : True\n",
            "\n",
            "Jumlah Missing Values masing-masing kolom, adalah:\n",
            "tenure              99\n",
            "MonthlyCharges      26\n",
            "TotalCharges        15\n",
            "Churn                0\n",
            "InternetService      0\n",
            "customerID           0\n",
            "gender               0\n",
            "SeniorCitizen        0\n",
            "Partner              0\n",
            "Dependents           0\n",
            "PhoneService         0\n",
            "MultipleLines        0\n",
            "OnlineSecurity       0\n",
            "OnlineBackup         0\n",
            "DeviceProtection     0\n",
            "TechSupport          0\n",
            "StreamingTV          0\n",
            "StreamingMovies      0\n",
            "Contract             0\n",
            "PaperlessBilling     0\n",
            "PaymentMethod        0\n",
            "UpdatedAt            0\n",
            "dtype: int64\n",
            "\n",
            "Jumlah Missing Values setelah di imputer datanya, adalah:\n",
            "Churn               0\n",
            "TotalCharges        0\n",
            "customerID          0\n",
            "gender              0\n",
            "SeniorCitizen       0\n",
            "Partner             0\n",
            "Dependents          0\n",
            "tenure              0\n",
            "PhoneService        0\n",
            "MultipleLines       0\n",
            "InternetService     0\n",
            "OnlineSecurity      0\n",
            "OnlineBackup        0\n",
            "DeviceProtection    0\n",
            "TechSupport         0\n",
            "StreamingTV         0\n",
            "StreamingMovies     0\n",
            "Contract            0\n",
            "PaperlessBilling    0\n",
            "PaymentMethod       0\n",
            "MonthlyCharges      0\n",
            "UpdatedAt           0\n",
            "dtype: int64\n"
          ],
          "name": "stdout"
        }
      ]
    },
    {
      "cell_type": "markdown",
      "metadata": {
        "id": "qa2ip8xabhzV",
        "colab_type": "text"
      },
      "source": [
        "### Kesimpulan\n",
        "\n",
        "Setelah kita analisis lebih lanjut, ternyata masih ada Missing Values dari data yang kita sudah validkan Id Number pelanggannya. Missing values terdapat pada kolom Churn, tenure, MonthlyCharges & TotalCharges. Setelah kita tangani dengan cara penghapusan rows dan pengisian rows dengan nilai tertentu, terbukti sudah tidak ada missing values lagi pada data, terbukti dari jumlah missing values masing-masing variable yang bernilai 0. Selanjutnya kita akan melakukan penanganan pencilan (Outlier)"
      ]
    },
    {
      "cell_type": "markdown",
      "metadata": {
        "id": "oeF-psuNbhzV",
        "colab_type": "text"
      },
      "source": [
        "## Mengatasi Outlier"
      ]
    },
    {
      "cell_type": "markdown",
      "metadata": {
        "id": "O8EpLd8IbhzW",
        "colab_type": "text"
      },
      "source": [
        "### Mendeteksi adanya Outlier (Boxplot)\n",
        "\n",
        "Mendeteksi Pencilan dari suatu Nilai (Outlier) salah satunya bisa melihat plot dari data tersebut menggunakan Box Plot. Boxplot merupakan ringkasan distribusi sampel yang disajikan secara grafis yang bisa menggambarkan bentuk distribusi data (skewness), ukuran tendensi sentral dan ukuran penyebaran (keragaman) data pengamatan.\n",
        "\n",
        "Gunakan package `matplotlib` & `seaborn` untuk memvisualisasika data-data yang mau dilihat box plot nya. Fungsi `describe()` gunakan saat untuk melihat deskripsi datanya"
      ]
    },
    {
      "cell_type": "code",
      "metadata": {
        "scrolled": false,
        "id": "FZGktWSwbhzX",
        "colab_type": "code",
        "colab": {},
        "outputId": "d8206daf-578c-4b1e-d2ce-256226a3c4d2"
      },
      "source": [
        "print('\\nPersebaran data sebelum ditangani Outlier: ')\n",
        "print(df_load[['tenure','MonthlyCharges','TotalCharges']].describe())\n",
        "\n",
        "# Creating Box Plot\n",
        "import matplotlib.pyplot as plt\n",
        "import seaborn as sns\n",
        "\n",
        "# Masukkan variable\n",
        "plt.figure() # untuk membuat figure baru\n",
        "sns.boxplot(x=df_load['tenure'])\n",
        "plt.show()\n",
        "plt.figure() # untuk membuat figure baru\n",
        "sns.boxplot(x=df_load['MonthlyCharges'])\n",
        "plt.show()\n",
        "plt.figure() # untuk membuat figure baru\n",
        "sns.boxplot(x=df_load['TotalCharges'])\n",
        "plt.show()"
      ],
      "execution_count": null,
      "outputs": [
        {
          "output_type": "stream",
          "text": [
            "\n",
            "Persebaran data sebelum ditangani Outlier: \n",
            "            tenure  MonthlyCharges  TotalCharges\n",
            "count  6950.000000     6950.000000   6950.000000\n",
            "mean     32.477266       65.783741   2305.083460\n",
            "std      25.188910       50.457871   2578.651143\n",
            "min       0.000000        0.000000     19.000000\n",
            "25%       9.000000       36.462500    406.975000\n",
            "50%      29.000000       70.450000   1400.850000\n",
            "75%      55.000000       89.850000   3799.837500\n",
            "max     500.000000     2311.000000  80000.000000\n"
          ],
          "name": "stdout"
        },
        {
          "output_type": "display_data",
          "data": {
            "image/png": "[encoded data removed]",
            "text/plain": [
              "<Figure size 432x288 with 1 Axes>"
            ]
          },
          "metadata": {
            "tags": [],
            "needs_background": "light"
          }
        },
        {
          "output_type": "display_data",
          "data": {
            "image/png": "[encoded data removed]",
            "text/plain": [
              "<Figure size 432x288 with 1 Axes>"
            ]
          },
          "metadata": {
            "tags": [],
            "needs_background": "light"
          }
        },
        {
          "output_type": "display_data",
          "data": {
            "image/png": "[encoded data removed]",
            "text/plain": [
              "<Figure size 432x288 with 1 Axes>"
            ]
          },
          "metadata": {
            "tags": [],
            "needs_background": "light"
          }
        }
      ]
    },
    {
      "cell_type": "markdown",
      "metadata": {
        "id": "qE30RyhZbhza",
        "colab_type": "text"
      },
      "source": [
        "### Mengatasi Outlier\n",
        "\n",
        "Setelah kita mengetahui variable mana saja yang terdapat pencilan (Outlier), selanjutnya kita akan atasi Outlier dengan menggunakan metode interquartile range (IQR). Untuk detil jelasnya, bisa dilihat di ilustrasi di bawah ini:\n",
        " \n",
        "Gunakan hasil dari pengolahan di tahap sebelumnya `df_load` untuk di olah di tahap ini. Gunakan fungsi `quantile()` untuk melihat quantile tertentu, dan gunakan `mask()` untuk mereplace nilai. Tentukan:\n",
        "\n",
        "- Nilai Minimum dan Maximum data di tolerir\n",
        "- Ubah Nilai yg di luar Range Minumum & Maximum ke dalam nilai Minimum dan Maximum"
      ]
    },
    {
      "cell_type": "code",
      "metadata": {
        "id": "x6pG6i6Ibhzb",
        "colab_type": "code",
        "colab": {},
        "outputId": "91535883-1128-41d2-cba1-d425a6f3d9e7"
      },
      "source": [
        "# Handling with IQR\n",
        "Q1 = (df_load[['tenure','MonthlyCharges','TotalCharges']]).quantile(0.25)\n",
        "Q3 = (df_load[['tenure','MonthlyCharges','TotalCharges']]).quantile(0.75)\n",
        "\n",
        "IQR = Q3 - Q1\n",
        "maximum = Q3 + (1.5*IQR)\n",
        "print('Nilai Maximum dari masing-masing Variable adalah: ')\n",
        "print(maximum)\n",
        "minimum = Q1 - (1.5*IQR)\n",
        "print('\\nNilai Minimum dari masing-masing Variable adalah: ')\n",
        "print(minimum)\n",
        "\n",
        "more_than = (df_load > maximum)\n",
        "lower_than = (df_load < minimum)\n",
        "df_load = df_load.mask(more_than, maximum, axis=1)\n",
        "df_load = df_load.mask(lower_than, minimum, axis=1)\n",
        "\n",
        "print('\\nPersebaran data setelah ditangani Outlier: ')\n",
        "print(df_load[['tenure','MonthlyCharges','TotalCharges']].describe())"
      ],
      "execution_count": null,
      "outputs": [
        {
          "output_type": "stream",
          "text": [
            "Nilai Maximum dari masing-masing Variable adalah: \n",
            "tenure             124.00000\n",
            "MonthlyCharges     169.93125\n",
            "TotalCharges      8889.13125\n",
            "dtype: float64\n",
            "\n",
            "Nilai Minimum dari masing-masing Variable adalah: \n",
            "tenure             -60.00000\n",
            "MonthlyCharges     -43.61875\n",
            "TotalCharges     -4682.31875\n",
            "dtype: float64\n",
            "\n",
            "Persebaran data setelah ditangani Outlier: \n",
            "            tenure  MonthlyCharges  TotalCharges\n",
            "count  6950.000000     6950.000000   6950.000000\n",
            "mean     32.423165       64.992201   2286.058750\n",
            "std      24.581073       30.032040   2265.702553\n",
            "min       0.000000        0.000000     19.000000\n",
            "25%       9.000000       36.462500    406.975000\n",
            "50%      29.000000       70.450000   1400.850000\n",
            "75%      55.000000       89.850000   3799.837500\n",
            "max     124.000000      169.931250   8889.131250\n"
          ],
          "name": "stdout"
        }
      ]
    },
    {
      "cell_type": "markdown",
      "metadata": {
        "id": "xJU2Nwf4bhzd",
        "colab_type": "text"
      },
      "source": [
        "### Kesimpulan\n",
        "\n",
        "Dari ketiga boxplot dengan variable 'tenure','MonthlyCharges' & 'TotalCharges' terlihat jelas bahwasannya ada outlier. Hal ini bisa di identifikasi dari adanya titik titik yang berada jauh dari gambar boxplotnya. Kemudian kalo kita liat persebaran datanya dari kolom max nya juga ada nilai yang sangat tinggi sekali. Kemudian nilai outlier tersebut ditangani dengan cara merubah nilainya ke nilai Maximum & Minimum dari interquartile range (IQR). Setelah di tangani outliernya, dan dilihat perseberan data nya, terlihat sudah tidak ada lagi nilai yang outlier."
      ]
    },
    {
      "cell_type": "markdown",
      "metadata": {
        "id": "TuW-lPnzbhzd",
        "colab_type": "text"
      },
      "source": [
        "## Menstandarisasi Nilai"
      ]
    },
    {
      "cell_type": "markdown",
      "metadata": {
        "id": "P0X-lRymbhze",
        "colab_type": "text"
      },
      "source": [
        "### Mendeteksi Nilai yang tidak Standar\n",
        "\n",
        "Mendeteksi apakah ada nilai-nilai dari variable kategorik yang tidak standard. Hal ini biasanya terjadi dikarenakan kesalahan input data. Perbedaan istilah menjadi salah satu faktor yang sering terjadi, untuk itu dibutuhkan standarisasi dari data yang sudah terinput. Gunakan fungsi `value_counts()` untuk melihat jumlah data unique per variable nya"
      ]
    },
    {
      "cell_type": "code",
      "metadata": {
        "id": "2v-Whrw4bhzf",
        "colab_type": "code",
        "colab": {},
        "outputId": "1430aa0a-aa07-4914-bba5-b8bfdf625693"
      },
      "source": [
        "# Masukkan variable\n",
        "for col_name in list(['gender','SeniorCitizen','Partner','Dependents','PhoneService','MultipleLines','InternetService','OnlineSecurity','OnlineBackup','DeviceProtection','TechSupport','StreamingTV','StreamingMovies','Contract','PaperlessBilling','PaymentMethod','Churn']):\n",
        "    print('\\nUnique Values Count \\033[1m' + 'Before Standardized \\033[0m Variable',col_name)\n",
        "    print(df_load[col_name].value_counts())"
      ],
      "execution_count": null,
      "outputs": [
        {
          "output_type": "stream",
          "text": [
            "\n",
            "Unique Values Count \u001b[1mBefore Standardized \u001b[0m Variable gender\n",
            "Male         3499\n",
            "Female       3431\n",
            "Wanita         14\n",
            "Laki-Laki       6\n",
            "Name: gender, dtype: int64\n",
            "\n",
            "Unique Values Count \u001b[1mBefore Standardized \u001b[0m Variable SeniorCitizen\n",
            "0    5822\n",
            "1    1128\n",
            "Name: SeniorCitizen, dtype: int64\n",
            "\n",
            "Unique Values Count \u001b[1mBefore Standardized \u001b[0m Variable Partner\n",
            "No     3591\n",
            "Yes    3359\n",
            "Name: Partner, dtype: int64\n",
            "\n",
            "Unique Values Count \u001b[1mBefore Standardized \u001b[0m Variable Dependents\n",
            "No     4870\n",
            "Yes    2060\n",
            "Iya      20\n",
            "Name: Dependents, dtype: int64\n",
            "\n",
            "Unique Values Count \u001b[1mBefore Standardized \u001b[0m Variable PhoneService\n",
            "Yes    6281\n",
            "No      669\n",
            "Name: PhoneService, dtype: int64\n",
            "\n",
            "Unique Values Count \u001b[1mBefore Standardized \u001b[0m Variable MultipleLines\n",
            "No                  3346\n",
            "Yes                 2935\n",
            "No phone service     669\n",
            "Name: MultipleLines, dtype: int64\n",
            "\n",
            "Unique Values Count \u001b[1mBefore Standardized \u001b[0m Variable InternetService\n",
            "Fiber optic    3057\n",
            "DSL            2388\n",
            "No             1505\n",
            "Name: InternetService, dtype: int64\n",
            "\n",
            "Unique Values Count \u001b[1mBefore Standardized \u001b[0m Variable OnlineSecurity\n",
            "No                     3454\n",
            "Yes                    1991\n",
            "No internet service    1505\n",
            "Name: OnlineSecurity, dtype: int64\n",
            "\n",
            "Unique Values Count \u001b[1mBefore Standardized \u001b[0m Variable OnlineBackup\n",
            "No                     3045\n",
            "Yes                    2400\n",
            "No internet service    1505\n",
            "Name: OnlineBackup, dtype: int64\n",
            "\n",
            "Unique Values Count \u001b[1mBefore Standardized \u001b[0m Variable DeviceProtection\n",
            "No                     3054\n",
            "Yes                    2391\n",
            "No internet service    1505\n",
            "Name: DeviceProtection, dtype: int64\n",
            "\n",
            "Unique Values Count \u001b[1mBefore Standardized \u001b[0m Variable TechSupport\n",
            "No                     3431\n",
            "Yes                    2014\n",
            "No internet service    1505\n",
            "Name: TechSupport, dtype: int64\n",
            "\n",
            "Unique Values Count \u001b[1mBefore Standardized \u001b[0m Variable StreamingTV\n",
            "No                     2774\n",
            "Yes                    2671\n",
            "No internet service    1505\n",
            "Name: StreamingTV, dtype: int64\n",
            "\n",
            "Unique Values Count \u001b[1mBefore Standardized \u001b[0m Variable StreamingMovies\n",
            "No                     2747\n",
            "Yes                    2698\n",
            "No internet service    1505\n",
            "Name: StreamingMovies, dtype: int64\n",
            "\n",
            "Unique Values Count \u001b[1mBefore Standardized \u001b[0m Variable Contract\n",
            "Month-to-month    3823\n",
            "Two year          1670\n",
            "One year          1457\n",
            "Name: Contract, dtype: int64\n",
            "\n",
            "Unique Values Count \u001b[1mBefore Standardized \u001b[0m Variable PaperlessBilling\n",
            "Yes    4114\n",
            "No     2836\n",
            "Name: PaperlessBilling, dtype: int64\n",
            "\n",
            "Unique Values Count \u001b[1mBefore Standardized \u001b[0m Variable PaymentMethod\n",
            "Electronic check             2337\n",
            "Mailed check                 1594\n",
            "Bank transfer (automatic)    1519\n",
            "Credit card (automatic)      1500\n",
            "Name: PaymentMethod, dtype: int64\n",
            "\n",
            "Unique Values Count \u001b[1mBefore Standardized \u001b[0m Variable Churn\n",
            "No       5114\n",
            "Yes      1827\n",
            "Churn       9\n",
            "Name: Churn, dtype: int64\n"
          ],
          "name": "stdout"
        }
      ]
    },
    {
      "cell_type": "markdown",
      "metadata": {
        "id": "cu0tFuy6bhzh",
        "colab_type": "text"
      },
      "source": [
        "### Menstandarisasi Variable Kategorik\n",
        "\n",
        "Setelah kita mengeteahui variable mana saja yang ada nilai tidak standar, maka kita standarkan dengan pola terbanyak nya, dengan syarat tanpa mengubah maknanya. Contoh : Iya -> Yes Kemudian liat kembali unique values dari masing-masing variable yang sudah di ubah. Gunakan fungsi `replace()` untuk menstandarkan nilai."
      ]
    },
    {
      "cell_type": "code",
      "metadata": {
        "id": "PUoBSEH-bhzi",
        "colab_type": "code",
        "colab": {},
        "outputId": "878d83a9-07ef-41e1-bfdc-f97d1f67e20e"
      },
      "source": [
        "df_load = df_load.replace(['Wanita','Laki-Laki','Churn','Iya'],['Female','Male','Yes','Yes'])\n",
        "\n",
        "# Masukkan variable\n",
        "for col_name in list(['gender','Dependents','Churn']):\n",
        "    print('\\nUnique Values Count \\033[1m' + 'After Standardized \\033[0mVariable',col_name)\n",
        "    print(df_load[col_name].value_counts())"
      ],
      "execution_count": null,
      "outputs": [
        {
          "output_type": "stream",
          "text": [
            "\n",
            "Unique Values Count \u001b[1mAfter Standardized \u001b[0mVariable gender\n",
            "Male      3505\n",
            "Female    3445\n",
            "Name: gender, dtype: int64\n",
            "\n",
            "Unique Values Count \u001b[1mAfter Standardized \u001b[0mVariable Dependents\n",
            "No     4870\n",
            "Yes    2080\n",
            "Name: Dependents, dtype: int64\n",
            "\n",
            "Unique Values Count \u001b[1mAfter Standardized \u001b[0mVariable Churn\n",
            "No     5114\n",
            "Yes    1836\n",
            "Name: Churn, dtype: int64\n"
          ],
          "name": "stdout"
        }
      ]
    },
    {
      "cell_type": "markdown",
      "metadata": {
        "id": "lT1tH0u-bhzn",
        "colab_type": "text"
      },
      "source": [
        "### Kesimpulan\n",
        "\n",
        "Ketika kita amati lebih jauh dari jumlah unique value dari masing-masing variable kategorik, terlihat jelas bahwa ada beberapa variable yang tidak standar. Variable itu adalah :\n",
        "\n",
        "- `Gender` (Female, Male, Wanita, Laki-Laki), yang bisa di standarkan nilainya menjadi (Female, Male) karena mempunyai makna yang sama.\n",
        "- `Dependents` (Yes, No, Iya), yang bisa di standarkan nilainya menjadi (Yes, No) karena mempunyai makna yang sama.\n",
        "- `Churn` (Yes, No, Churn), yang bisa di standarkan nilainya menjadi (Yes, No) karena mempunyai makna yang sama.\n",
        "Setelah kita standarkan nilainya, dan kita amati kembali bentuk datanya, sudah terstandar dengan baik untuk unique value nya."
      ]
    },
    {
      "cell_type": "markdown",
      "metadata": {
        "id": "55ZmPD8Ubhzo",
        "colab_type": "text"
      },
      "source": [
        "## You Have Passed the Module\n",
        "\n",
        "![](https://github.com/MyArist/DQLab/blob/master/Learn/Python/Applied%20Data%20Science/Data%20Science%20in%20Telco%20Data%20Cleansing/Picts/congratulations.png?raw=1)"
      ]
    }
  ]
}
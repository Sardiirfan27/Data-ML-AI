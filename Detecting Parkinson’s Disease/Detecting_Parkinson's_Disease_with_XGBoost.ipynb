{
  "nbformat": 4,
  "nbformat_minor": 0,
  "metadata": {
    "colab": {
      "name": "Detecting_Parkinson's_Disease_with_XGBoost.ipynb",
      "provenance": [],
      "toc_visible": true
    },
    "kernelspec": {
      "name": "python3",
      "display_name": "Python 3"
    }
  },
  "cells": [
    {
      "cell_type": "markdown",
      "metadata": {
        "id": "cRlq4BzbluT0"
      },
      "source": [
        "Name: Sardi Irfansyah"
      ]
    },
    {
      "cell_type": "code",
      "metadata": {
        "id": "bCrOHc5hf8kV",
        "outputId": "d685800b-5d15-4914-a146-99030f02d172",
        "colab": {
          "base_uri": "https://localhost:8080/",
          "height": 212
        }
      },
      "source": [
        "# Download the dataset using wget command\n",
        "!wget https://archive.ics.uci.edu/ml/machine-learning-databases/parkinsons/parkinsons.data\n"
      ],
      "execution_count": 17,
      "outputs": [
        {
          "output_type": "stream",
          "text": [
            "--2020-10-28 09:53:39--  https://archive.ics.uci.edu/ml/machine-learning-databases/parkinsons/parkinsons.data\n",
            "Resolving archive.ics.uci.edu (archive.ics.uci.edu)... 128.195.10.252\n",
            "Connecting to archive.ics.uci.edu (archive.ics.uci.edu)|128.195.10.252|:443... connected.\n",
            "HTTP request sent, awaiting response... 200 OK\n",
            "Length: 40697 (40K) [application/x-httpd-php]\n",
            "Saving to: ‘parkinsons.data.1’\n",
            "\n",
            "parkinsons.data.1   100%[===================>]  39.74K  --.-KB/s    in 0.06s   \n",
            "\n",
            "2020-10-28 09:53:39 (720 KB/s) - ‘parkinsons.data.1’ saved [40697/40697]\n",
            "\n"
          ],
          "name": "stdout"
        }
      ]
    },
    {
      "cell_type": "code",
      "metadata": {
        "id": "97R-Yw3HlcaQ",
        "outputId": "40b4f846-f9e6-4a26-96ad-cc415a06ae7d",
        "colab": {
          "base_uri": "https://localhost:8080/",
          "height": 1000
        }
      },
      "source": [
        "# Download the metadata using wget command\n",
        "!wget https://archive.ics.uci.edu/ml/machine-learning-databases/parkinsons/parkinsons.names\n",
        "\n",
        "# Read the dataset metadata\n",
        "with open('/content/parkinsons.names') as txt:\n",
        "    for t in txt:\n",
        "        print(t)"
      ],
      "execution_count": 18,
      "outputs": [
        {
          "output_type": "stream",
          "text": [
            "--2020-10-28 09:53:39--  https://archive.ics.uci.edu/ml/machine-learning-databases/parkinsons/parkinsons.names\n",
            "Resolving archive.ics.uci.edu (archive.ics.uci.edu)... 128.195.10.252\n",
            "Connecting to archive.ics.uci.edu (archive.ics.uci.edu)|128.195.10.252|:443... connected.\n",
            "HTTP request sent, awaiting response... 200 OK\n",
            "Length: 3080 (3.0K) [application/x-httpd-php]\n",
            "Saving to: ‘parkinsons.names.1’\n",
            "\n",
            "parkinsons.names.1  100%[===================>]   3.01K  --.-KB/s    in 0s      \n",
            "\n",
            "2020-10-28 09:53:40 (75.9 MB/s) - ‘parkinsons.names.1’ saved [3080/3080]\n",
            "\n",
            "Title: Parkinsons Disease Data Set\n",
            "\n",
            "\n",
            "\n",
            "Abstract: Oxford Parkinson's Disease Detection Dataset\n",
            "\n",
            "\n",
            "\n",
            "-----------------------------------------------------\t\n",
            "\n",
            "\n",
            "\n",
            "Data Set Characteristics: Multivariate\n",
            "\n",
            "Number of Instances: 197\n",
            "\n",
            "Area: Life\n",
            "\n",
            "Attribute Characteristics: Real\n",
            "\n",
            "Number of Attributes: 23\n",
            "\n",
            "Date Donated: 2008-06-26\n",
            "\n",
            "Associated Tasks: Classification\n",
            "\n",
            "Missing Values? N/A\n",
            "\n",
            "\n",
            "\n",
            "-----------------------------------------------------\t\n",
            "\n",
            "\n",
            "\n",
            "Source:\n",
            "\n",
            "\n",
            "\n",
            "The dataset was created by Max Little of the University of Oxford, in \n",
            "\n",
            "collaboration with the National Centre for Voice and Speech, Denver, \n",
            "\n",
            "Colorado, who recorded the speech signals. The original study published the \n",
            "\n",
            "feature extraction methods for general voice disorders.\n",
            "\n",
            "\n",
            "\n",
            "-----------------------------------------------------\n",
            "\n",
            "\n",
            "\n",
            "Data Set Information:\n",
            "\n",
            "\n",
            "\n",
            "This dataset is composed of a range of biomedical voice measurements from \n",
            "\n",
            "31 people, 23 with Parkinson's disease (PD). Each column in the table is a \n",
            "\n",
            "particular voice measure, and each row corresponds one of 195 voice \n",
            "\n",
            "recording from these individuals (\"name\" column). The main aim of the data \n",
            "\n",
            "is to discriminate healthy people from those with PD, according to \"status\" \n",
            "\n",
            "column which is set to 0 for healthy and 1 for PD.\n",
            "\n",
            "\n",
            "\n",
            "The data is in ASCII CSV format. The rows of the CSV file contain an \n",
            "\n",
            "instance corresponding to one voice recording. There are around six \n",
            "\n",
            "recordings per patient, the name of the patient is identified in the first \n",
            "\n",
            "column.For further information or to pass on comments, please contact Max \n",
            "\n",
            "Little (littlem '@' robots.ox.ac.uk).\n",
            "\n",
            "\n",
            "\n",
            "Further details are contained in the following reference -- if you use this \n",
            "\n",
            "dataset, please cite:\n",
            "\n",
            "Max A. Little, Patrick E. McSharry, Eric J. Hunter, Lorraine O. Ramig (2008), \n",
            "\n",
            "'Suitability of dysphonia measurements for telemonitoring of Parkinson's disease', \n",
            "\n",
            "IEEE Transactions on Biomedical Engineering (to appear).\n",
            "\n",
            "\n",
            "\n",
            "-----------------------------------------------------\n",
            "\n",
            "\n",
            "\n",
            "Attribute Information:\n",
            "\n",
            "\n",
            "\n",
            "Matrix column entries (attributes):\n",
            "\n",
            "name - ASCII subject name and recording number\n",
            "\n",
            "MDVP:Fo(Hz) - Average vocal fundamental frequency\n",
            "\n",
            "MDVP:Fhi(Hz) - Maximum vocal fundamental frequency\n",
            "\n",
            "MDVP:Flo(Hz) - Minimum vocal fundamental frequency\n",
            "\n",
            "MDVP:Jitter(%),MDVP:Jitter(Abs),MDVP:RAP,MDVP:PPQ,Jitter:DDP - Several \n",
            "\n",
            "measures of variation in fundamental frequency\n",
            "\n",
            "MDVP:Shimmer,MDVP:Shimmer(dB),Shimmer:APQ3,Shimmer:APQ5,MDVP:APQ,Shimmer:DDA - Several measures of variation in amplitude\n",
            "\n",
            "NHR,HNR - Two measures of ratio of noise to tonal components in the voice\n",
            "\n",
            "status - Health status of the subject (one) - Parkinson's, (zero) - healthy\n",
            "\n",
            "RPDE,D2 - Two nonlinear dynamical complexity measures\n",
            "\n",
            "DFA - Signal fractal scaling exponent\n",
            "\n",
            "spread1,spread2,PPE - Three nonlinear measures of fundamental frequency variation \n",
            "\n",
            "\n",
            "\n",
            "-----------------------------------------------------\n",
            "\n",
            "\n",
            "\n",
            "Citation Request:\n",
            "\n",
            "\n",
            "\n",
            "If you use this dataset, please cite the following paper: \n",
            "\n",
            "'Exploiting Nonlinear Recurrence and Fractal Scaling Properties for Voice Disorder Detection', \n",
            "\n",
            "Little MA, McSharry PE, Roberts SJ, Costello DAE, Moroz IM. \n",
            "\n",
            "BioMedical Engineering OnLine 2007, 6:23 (26 June 2007)\n",
            "\n",
            "\n",
            "\n",
            "\n",
            "\n"
          ],
          "name": "stdout"
        }
      ]
    },
    {
      "cell_type": "markdown",
      "metadata": {
        "id": "PEeSMXirhCRi"
      },
      "source": [
        "# 1. Make necessary imports:"
      ]
    },
    {
      "cell_type": "code",
      "metadata": {
        "id": "-dVHp0JSg9Hi"
      },
      "source": [
        "import numpy as np\n",
        "import pandas as pd\n",
        "import os, sys\n",
        "from sklearn.preprocessing import MinMaxScaler\n",
        "from xgboost import XGBClassifier\n",
        "from sklearn.model_selection import train_test_split\n",
        "from sklearn.metrics import accuracy_score"
      ],
      "execution_count": 19,
      "outputs": []
    },
    {
      "cell_type": "markdown",
      "metadata": {
        "id": "9RjLR9D4iL49"
      },
      "source": [
        "# 2. Now, let’s read the data into a DataFrame and get the first 5 records."
      ]
    },
    {
      "cell_type": "code",
      "metadata": {
        "id": "pGUvYAeeiDEa",
        "outputId": "b831cefd-8c40-40a0-adc3-05dd02e6d70c",
        "colab": {
          "base_uri": "https://localhost:8080/",
          "height": 217
        }
      },
      "source": [
        "#DataFlair - Read the data\n",
        "df = pd.read_csv('parkinsons.data')\n",
        "df.head()"
      ],
      "execution_count": 20,
      "outputs": [
        {
          "output_type": "execute_result",
          "data": {
            "text/html": [
              "<div>\n",
              "<style scoped>\n",
              "    .dataframe tbody tr th:only-of-type {\n",
              "        vertical-align: middle;\n",
              "    }\n",
              "\n",
              "    .dataframe tbody tr th {\n",
              "        vertical-align: top;\n",
              "    }\n",
              "\n",
              "    .dataframe thead th {\n",
              "        text-align: right;\n",
              "    }\n",
              "</style>\n",
              "<table border=\"1\" class=\"dataframe\">\n",
              "  <thead>\n",
              "    <tr style=\"text-align: right;\">\n",
              "      <th></th>\n",
              "      <th>name</th>\n",
              "      <th>MDVP:Fo(Hz)</th>\n",
              "      <th>MDVP:Fhi(Hz)</th>\n",
              "      <th>MDVP:Flo(Hz)</th>\n",
              "      <th>MDVP:Jitter(%)</th>\n",
              "      <th>MDVP:Jitter(Abs)</th>\n",
              "      <th>MDVP:RAP</th>\n",
              "      <th>MDVP:PPQ</th>\n",
              "      <th>Jitter:DDP</th>\n",
              "      <th>MDVP:Shimmer</th>\n",
              "      <th>MDVP:Shimmer(dB)</th>\n",
              "      <th>Shimmer:APQ3</th>\n",
              "      <th>Shimmer:APQ5</th>\n",
              "      <th>MDVP:APQ</th>\n",
              "      <th>Shimmer:DDA</th>\n",
              "      <th>NHR</th>\n",
              "      <th>HNR</th>\n",
              "      <th>status</th>\n",
              "      <th>RPDE</th>\n",
              "      <th>DFA</th>\n",
              "      <th>spread1</th>\n",
              "      <th>spread2</th>\n",
              "      <th>D2</th>\n",
              "      <th>PPE</th>\n",
              "    </tr>\n",
              "  </thead>\n",
              "  <tbody>\n",
              "    <tr>\n",
              "      <th>0</th>\n",
              "      <td>phon_R01_S01_1</td>\n",
              "      <td>119.992</td>\n",
              "      <td>157.302</td>\n",
              "      <td>74.997</td>\n",
              "      <td>0.00784</td>\n",
              "      <td>0.00007</td>\n",
              "      <td>0.00370</td>\n",
              "      <td>0.00554</td>\n",
              "      <td>0.01109</td>\n",
              "      <td>0.04374</td>\n",
              "      <td>0.426</td>\n",
              "      <td>0.02182</td>\n",
              "      <td>0.03130</td>\n",
              "      <td>0.02971</td>\n",
              "      <td>0.06545</td>\n",
              "      <td>0.02211</td>\n",
              "      <td>21.033</td>\n",
              "      <td>1</td>\n",
              "      <td>0.414783</td>\n",
              "      <td>0.815285</td>\n",
              "      <td>-4.813031</td>\n",
              "      <td>0.266482</td>\n",
              "      <td>2.301442</td>\n",
              "      <td>0.284654</td>\n",
              "    </tr>\n",
              "    <tr>\n",
              "      <th>1</th>\n",
              "      <td>phon_R01_S01_2</td>\n",
              "      <td>122.400</td>\n",
              "      <td>148.650</td>\n",
              "      <td>113.819</td>\n",
              "      <td>0.00968</td>\n",
              "      <td>0.00008</td>\n",
              "      <td>0.00465</td>\n",
              "      <td>0.00696</td>\n",
              "      <td>0.01394</td>\n",
              "      <td>0.06134</td>\n",
              "      <td>0.626</td>\n",
              "      <td>0.03134</td>\n",
              "      <td>0.04518</td>\n",
              "      <td>0.04368</td>\n",
              "      <td>0.09403</td>\n",
              "      <td>0.01929</td>\n",
              "      <td>19.085</td>\n",
              "      <td>1</td>\n",
              "      <td>0.458359</td>\n",
              "      <td>0.819521</td>\n",
              "      <td>-4.075192</td>\n",
              "      <td>0.335590</td>\n",
              "      <td>2.486855</td>\n",
              "      <td>0.368674</td>\n",
              "    </tr>\n",
              "    <tr>\n",
              "      <th>2</th>\n",
              "      <td>phon_R01_S01_3</td>\n",
              "      <td>116.682</td>\n",
              "      <td>131.111</td>\n",
              "      <td>111.555</td>\n",
              "      <td>0.01050</td>\n",
              "      <td>0.00009</td>\n",
              "      <td>0.00544</td>\n",
              "      <td>0.00781</td>\n",
              "      <td>0.01633</td>\n",
              "      <td>0.05233</td>\n",
              "      <td>0.482</td>\n",
              "      <td>0.02757</td>\n",
              "      <td>0.03858</td>\n",
              "      <td>0.03590</td>\n",
              "      <td>0.08270</td>\n",
              "      <td>0.01309</td>\n",
              "      <td>20.651</td>\n",
              "      <td>1</td>\n",
              "      <td>0.429895</td>\n",
              "      <td>0.825288</td>\n",
              "      <td>-4.443179</td>\n",
              "      <td>0.311173</td>\n",
              "      <td>2.342259</td>\n",
              "      <td>0.332634</td>\n",
              "    </tr>\n",
              "    <tr>\n",
              "      <th>3</th>\n",
              "      <td>phon_R01_S01_4</td>\n",
              "      <td>116.676</td>\n",
              "      <td>137.871</td>\n",
              "      <td>111.366</td>\n",
              "      <td>0.00997</td>\n",
              "      <td>0.00009</td>\n",
              "      <td>0.00502</td>\n",
              "      <td>0.00698</td>\n",
              "      <td>0.01505</td>\n",
              "      <td>0.05492</td>\n",
              "      <td>0.517</td>\n",
              "      <td>0.02924</td>\n",
              "      <td>0.04005</td>\n",
              "      <td>0.03772</td>\n",
              "      <td>0.08771</td>\n",
              "      <td>0.01353</td>\n",
              "      <td>20.644</td>\n",
              "      <td>1</td>\n",
              "      <td>0.434969</td>\n",
              "      <td>0.819235</td>\n",
              "      <td>-4.117501</td>\n",
              "      <td>0.334147</td>\n",
              "      <td>2.405554</td>\n",
              "      <td>0.368975</td>\n",
              "    </tr>\n",
              "    <tr>\n",
              "      <th>4</th>\n",
              "      <td>phon_R01_S01_5</td>\n",
              "      <td>116.014</td>\n",
              "      <td>141.781</td>\n",
              "      <td>110.655</td>\n",
              "      <td>0.01284</td>\n",
              "      <td>0.00011</td>\n",
              "      <td>0.00655</td>\n",
              "      <td>0.00908</td>\n",
              "      <td>0.01966</td>\n",
              "      <td>0.06425</td>\n",
              "      <td>0.584</td>\n",
              "      <td>0.03490</td>\n",
              "      <td>0.04825</td>\n",
              "      <td>0.04465</td>\n",
              "      <td>0.10470</td>\n",
              "      <td>0.01767</td>\n",
              "      <td>19.649</td>\n",
              "      <td>1</td>\n",
              "      <td>0.417356</td>\n",
              "      <td>0.823484</td>\n",
              "      <td>-3.747787</td>\n",
              "      <td>0.234513</td>\n",
              "      <td>2.332180</td>\n",
              "      <td>0.410335</td>\n",
              "    </tr>\n",
              "  </tbody>\n",
              "</table>\n",
              "</div>"
            ],
            "text/plain": [
              "             name  MDVP:Fo(Hz)  MDVP:Fhi(Hz)  ...   spread2        D2       PPE\n",
              "0  phon_R01_S01_1      119.992       157.302  ...  0.266482  2.301442  0.284654\n",
              "1  phon_R01_S01_2      122.400       148.650  ...  0.335590  2.486855  0.368674\n",
              "2  phon_R01_S01_3      116.682       131.111  ...  0.311173  2.342259  0.332634\n",
              "3  phon_R01_S01_4      116.676       137.871  ...  0.334147  2.405554  0.368975\n",
              "4  phon_R01_S01_5      116.014       141.781  ...  0.234513  2.332180  0.410335\n",
              "\n",
              "[5 rows x 24 columns]"
            ]
          },
          "metadata": {
            "tags": []
          },
          "execution_count": 20
        }
      ]
    },
    {
      "cell_type": "markdown",
      "metadata": {
        "id": "4FaCr5oeig8A"
      },
      "source": [
        "# 3. Get the features and labels from the DataFrame (dataset). The features are all the columns except ‘status’, and the labels are those in the ‘status’ column."
      ]
    },
    {
      "cell_type": "code",
      "metadata": {
        "id": "NfzVvI7JijLq"
      },
      "source": [
        "#DataFlair - Get the features and labels\n",
        "features=df.loc[:,df.columns!='status'].values[:,1:]\n",
        "labels=df.loc[:,'status'].values"
      ],
      "execution_count": 21,
      "outputs": []
    },
    {
      "cell_type": "markdown",
      "metadata": {
        "id": "H35ssALai4kL"
      },
      "source": [
        "# 4. The ‘status’ column has values 0 and 1 as labels; let’s get the counts of these labels for both- 0 and 1."
      ]
    },
    {
      "cell_type": "code",
      "metadata": {
        "id": "3j-Iz8uli8HF",
        "outputId": "84a770d5-f584-4bf5-be4f-cbf73f17d381",
        "colab": {
          "base_uri": "https://localhost:8080/",
          "height": 34
        }
      },
      "source": [
        "#DataFlair - Get the count of each label (0 and 1) in labels\n",
        "print(labels[labels==1].shape[0], labels[labels==0].shape[0])"
      ],
      "execution_count": 22,
      "outputs": [
        {
          "output_type": "stream",
          "text": [
            "147 48\n"
          ],
          "name": "stdout"
        }
      ]
    },
    {
      "cell_type": "markdown",
      "metadata": {
        "id": "1lj6LVfVjI1W"
      },
      "source": [
        "We have 147 ones and 48 zeros in the status column in our dataset."
      ]
    },
    {
      "cell_type": "markdown",
      "metadata": {
        "id": "dZLYvo2ajzHc"
      },
      "source": [
        "# 5. Initialize a MinMaxScaler and scale the features to between -1 and 1 to normalize them. The MinMaxScaler transforms features by scaling them to a given range. The fit_transform() method fits to the data and then transforms it. We don’t need to scale the labels."
      ]
    },
    {
      "cell_type": "code",
      "metadata": {
        "id": "gukq2To3jACV"
      },
      "source": [
        "#DataFlair - Scale the features to between -1 and 1\n",
        "scaler=MinMaxScaler((-1,1))\n",
        "x=scaler.fit_transform(features)\n",
        "y=labels"
      ],
      "execution_count": 23,
      "outputs": []
    },
    {
      "cell_type": "markdown",
      "metadata": {
        "id": "DNow3cdPkKRu"
      },
      "source": [
        "#6. Now, split the dataset into  80% training and testing sets keeping 20% of the data for testing."
      ]
    },
    {
      "cell_type": "code",
      "metadata": {
        "id": "ltNMP_MpkP5u"
      },
      "source": [
        "#DataFlair - Split the dataset\n",
        "x_train,x_test,y_train,y_test=train_test_split(x, y, test_size=0.2, random_state=7)"
      ],
      "execution_count": 24,
      "outputs": []
    },
    {
      "cell_type": "markdown",
      "metadata": {
        "id": "VjxSqXHDkSW4"
      },
      "source": [
        "#7. Initialize an XGBClassifier and train the model. "
      ]
    },
    {
      "cell_type": "markdown",
      "metadata": {
        "id": "QjAFFZ8Vkacs"
      },
      "source": [
        "This classifies using eXtreme Gradient Boosting- using gradient boosting algorithms for modern data science problems. It falls under the category of Ensemble Learning in ML, where we train and predict using many models to produce one superior output."
      ]
    },
    {
      "cell_type": "code",
      "metadata": {
        "id": "jsspFj0nkQ3j",
        "outputId": "61fb860a-4a04-4934-8e16-7c15a901bfab",
        "colab": {
          "base_uri": "https://localhost:8080/",
          "height": 141
        }
      },
      "source": [
        "#DataFlair - Train the model\n",
        "model=XGBClassifier()\n",
        "model.fit(x_train,y_train)"
      ],
      "execution_count": 25,
      "outputs": [
        {
          "output_type": "execute_result",
          "data": {
            "text/plain": [
              "XGBClassifier(base_score=0.5, booster='gbtree', colsample_bylevel=1,\n",
              "              colsample_bynode=1, colsample_bytree=1, gamma=0,\n",
              "              learning_rate=0.1, max_delta_step=0, max_depth=3,\n",
              "              min_child_weight=1, missing=None, n_estimators=100, n_jobs=1,\n",
              "              nthread=None, objective='binary:logistic', random_state=0,\n",
              "              reg_alpha=0, reg_lambda=1, scale_pos_weight=1, seed=None,\n",
              "              silent=None, subsample=1, verbosity=1)"
            ]
          },
          "metadata": {
            "tags": []
          },
          "execution_count": 25
        }
      ]
    },
    {
      "cell_type": "markdown",
      "metadata": {
        "id": "3yON2EQJkTNW"
      },
      "source": [
        "#8. Finally, generate y_pred (predicted values for x_test) and calculate the accuracy for the model. Print it out."
      ]
    },
    {
      "cell_type": "code",
      "metadata": {
        "id": "NFqOKbJVkQiT",
        "outputId": "bb340256-364b-40b1-f214-49ea34360402",
        "colab": {
          "base_uri": "https://localhost:8080/",
          "height": 34
        }
      },
      "source": [
        "# DataFlair - Calculate the accuracy\n",
        "y_pred=model.predict(x_test)\n",
        "print(accuracy_score(y_test, y_pred)*100)"
      ],
      "execution_count": 26,
      "outputs": [
        {
          "output_type": "stream",
          "text": [
            "94.87179487179486\n"
          ],
          "name": "stdout"
        }
      ]
    },
    {
      "cell_type": "markdown",
      "metadata": {
        "id": "G5CvIaX5kp9C"
      },
      "source": [
        "**Summary**\n",
        "\n",
        "*In this Python machine learning project, we learned to detect the presence of Parkinson’s Disease in individuals using various factors. We used an XGBClassifier for this and made use of the sklearn library to prepare the dataset. This gives us an accuracy of 94.87%, which is great considering the number of lines of code in this python project.*\n",
        "\n",
        "*Hope you enjoyed this Python project. We have already provided you the links for more interesting Python Projects at the top of the blog.*\n",
        "\n"
      ]
    }
  ]
}